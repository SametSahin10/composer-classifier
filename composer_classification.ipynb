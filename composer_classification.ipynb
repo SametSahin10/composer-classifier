{
  "nbformat": 4,
  "nbformat_minor": 0,
  "metadata": {
    "colab": {
      "provenance": [],
      "mount_file_id": "https://gist.github.com/SametSahin10/2968552ea9d4e30ac5baec1f6f333ebb#file-composer_instrument_classification-ipynb",
      "authorship_tag": "ABX9TyNx0TYQAuOPliR77L9/Pg2H",
      "include_colab_link": true
    },
    "kernelspec": {
      "name": "python3",
      "display_name": "Python 3"
    },
    "language_info": {
      "name": "python"
    }
  },
  "cells": [
    {
      "cell_type": "markdown",
      "metadata": {
        "id": "view-in-github",
        "colab_type": "text"
      },
      "source": [
        "<a href=\"https://colab.research.google.com/github/SametSahin10/composer-classifier/blob/main/composer_classification.ipynb\" target=\"_parent\"><img src=\"https://colab.research.google.com/assets/colab-badge.svg\" alt=\"Open In Colab\"/></a>"
      ]
    },
    {
      "cell_type": "code",
      "source": [
        "from google.colab import drive\n",
        "drive.mount('/content/drive/')"
      ],
      "metadata": {
        "colab": {
          "base_uri": "https://localhost:8080/"
        },
        "id": "t6OBJv6rfD6U",
        "outputId": "061b4c26-d8d0-49dc-fe32-ffcdfcb2ef43"
      },
      "execution_count": null,
      "outputs": [
        {
          "output_type": "stream",
          "name": "stdout",
          "text": [
            "Drive already mounted at /content/drive/; to attempt to forcibly remount, call drive.mount(\"/content/drive/\", force_remount=True).\n"
          ]
        }
      ]
    },
    {
      "cell_type": "code",
      "source": [
        "!pip install pretty_midi"
      ],
      "metadata": {
        "colab": {
          "base_uri": "https://localhost:8080/"
        },
        "id": "AFSSTwuJgJ2M",
        "outputId": "69317eb7-9029-4f06-afc6-80c9dda1f7ad"
      },
      "execution_count": null,
      "outputs": [
        {
          "output_type": "stream",
          "name": "stdout",
          "text": [
            "Looking in indexes: https://pypi.org/simple, https://us-python.pkg.dev/colab-wheels/public/simple/\n",
            "Requirement already satisfied: pretty_midi in /usr/local/lib/python3.10/dist-packages (0.2.10)\n",
            "Requirement already satisfied: numpy>=1.7.0 in /usr/local/lib/python3.10/dist-packages (from pretty_midi) (1.22.4)\n",
            "Requirement already satisfied: mido>=1.1.16 in /usr/local/lib/python3.10/dist-packages (from pretty_midi) (1.2.10)\n",
            "Requirement already satisfied: six in /usr/local/lib/python3.10/dist-packages (from pretty_midi) (1.16.0)\n"
          ]
        }
      ]
    },
    {
      "cell_type": "code",
      "source": [
        "import pretty_midi\n",
        "import numpy as np\n",
        "import os\n",
        "import tensorflow as tf\n",
        "import pandas as pd\n",
        "import matplotlib.pyplot as plt"
      ],
      "metadata": {
        "id": "iV3LOtvFVbK-"
      },
      "execution_count": null,
      "outputs": []
    },
    {
      "cell_type": "code",
      "execution_count": null,
      "metadata": {
        "colab": {
          "base_uri": "https://localhost:8080/"
        },
        "id": "dNWUTrTme1lG",
        "outputId": "9c659743-e2a8-4989-e259-d9265be62150"
      },
      "outputs": [
        {
          "output_type": "stream",
          "name": "stderr",
          "text": [
            "/usr/local/lib/python3.10/dist-packages/pretty_midi/pretty_midi.py:100: RuntimeWarning: Tempo, Key or Time signature change events found on non-zero tracks.  This is not a valid type 0 or type 1 MIDI file.  Tempo, Key or Time Signature may be wrong.\n",
            "  warnings.warn(\n"
          ]
        },
        {
          "output_type": "stream",
          "name": "stdout",
          "text": [
            "Got an error while processing: /content/drive/MyDrive/collab/musicnet_midis/Bach/2310_prelude15.mid\n",
            "Got an error while processing: /content/drive/MyDrive/collab/musicnet_midis/Bach/2230_prelude20.mid\n"
          ]
        }
      ],
      "source": [
        "# Yolu verilen bir MIDI dosyasindan nota ve hiz bilgilerini okuyup donduruyoruz.\n",
        "def extractNotesAndVelocities(path):\n",
        "    # MIDI dosyasini okuyoruz.\n",
        "    midi_data = pretty_midi.PrettyMIDI(path)\n",
        "\n",
        "    # MIDI dosyasindaki nota ve hiz bilgilerini elde ediyoruz.\n",
        "    notes = []\n",
        "    velocities = []\n",
        "\n",
        "    for instrument in midi_data.instruments:\n",
        "        for note in instrument.notes:\n",
        "            notes.append(note.pitch)\n",
        "            velocities.append(note.velocity)\n",
        "\n",
        "    # Nota ve hiz bilgilerini NumPy array'lerine cevirip\n",
        "    # fonksiyondan donduruyoruz.\n",
        "    notes = np.array(notes)\n",
        "    velocities = np.array(velocities)\n",
        "    return notes, velocities\n",
        "\n",
        "# Verilen kok dizinindeki tum klasorlerdeki MIDI dosyalarini okuyup\n",
        "# bir dictionary'de sakliyoruz.\n",
        "def createComposersDictionary(root_path):\n",
        "    composers = {}\n",
        "\n",
        "    for folder in os.listdir(root_path):\n",
        "        for file in os.listdir(os.path.join(root_path, folder)):\n",
        "            path = f'{root_path}/{folder}/{file}'\n",
        "\n",
        "            # Iterasyon sirasinda bazi MIDI dosyalari okunurken olusabilecek\n",
        "            # problemlere karsilik try-except kullandik.\n",
        "            try:\n",
        "                notes, velocities = extractNotesAndVelocities(path)\n",
        "            except:\n",
        "                print(f\"Got an error while processing: {path}\")\n",
        "                continue\n",
        "\n",
        "            data = [notes, velocities]\n",
        "            dataAsNumpyArray = np.array(data)\n",
        "            \n",
        "            if folder in composers:\n",
        "                composers[folder].append(dataAsNumpyArray)\n",
        "            else:\n",
        "                composers[folder] = [dataAsNumpyArray]\n",
        "\n",
        "    return composers\n",
        "\n",
        "composers = createComposersDictionary('/content/drive/MyDrive/collab/musicnet_midis')"
      ]
    },
    {
      "cell_type": "code",
      "source": [
        "# Sinir Agini olusturuyoruz.\n",
        "model = tf.keras.Sequential([\n",
        "    tf.keras.layers.Input(shape=(2, 400)),\n",
        "    tf.keras.layers.Flatten(),\n",
        "    tf.keras.layers.Dense(128, activation='relu'),\n",
        "    tf.keras.layers.Dense(128, activation='relu'),\n",
        "    tf.keras.layers.Dense(128, activation='relu'),\n",
        "    tf.keras.layers.Dense(10, activation=\"softmax\")\n",
        "])\n",
        "\n",
        "model.compile(\n",
        "    loss=tf.keras.losses.SparseCategoricalCrossentropy(),\n",
        "    optimizer=tf.keras.optimizers.Adam(),\n",
        "    metrics=[\"accuracy\"]\n",
        ")"
      ],
      "metadata": {
        "id": "pxHkGhK6s76u"
      },
      "execution_count": null,
      "outputs": []
    },
    {
      "cell_type": "code",
      "source": [
        "composer_name_to_index = {\n",
        "    composer:index for index, composer in enumerate(os.listdir('/content/drive/MyDrive/collab/musicnet_midis'))\n",
        "}"
      ],
      "metadata": {
        "id": "5x24_F1CjJwi"
      },
      "execution_count": null,
      "outputs": []
    },
    {
      "cell_type": "code",
      "source": [
        "composer_name_to_index"
      ],
      "metadata": {
        "colab": {
          "base_uri": "https://localhost:8080/"
        },
        "id": "VMeNPV8Sjt3g",
        "outputId": "528f3755-adaf-4ccd-b1ec-165b98f957a4"
      },
      "execution_count": null,
      "outputs": [
        {
          "output_type": "execute_result",
          "data": {
            "text/plain": [
              "{'Mozart': 0,\n",
              " 'Brahms': 1,\n",
              " 'Dvorak': 2,\n",
              " 'Haydn': 3,\n",
              " 'Schubert': 4,\n",
              " 'Bach': 5,\n",
              " 'Beethoven': 6,\n",
              " 'Faure': 7,\n",
              " 'Ravel': 8,\n",
              " 'Cambini': 9}"
            ]
          },
          "metadata": {},
          "execution_count": 28
        }
      ]
    },
    {
      "cell_type": "code",
      "source": [
        "# Sarkilarin uzunluklari farkli oldugundan\n",
        "# her sarkiyi 400 notalik parcalara boluyoruz.\n",
        "labels = []\n",
        "features = []\n",
        "for composer, notes_and_velocities in composers.items():\n",
        "  for i in range(len(notes_and_velocities)):\n",
        "    # Nota sayisindaki boyut farkliligini engellemek icin\n",
        "    # nota sayisi 400'den az olan sarkilari hesaba katmiyoruz.\n",
        "    if notes_and_velocities[i][0].shape[0] < 400: continue\n",
        "    n = notes_and_velocities[i][0].shape[0] // 400\n",
        "    increment = 0\n",
        "    for index in range(n):\n",
        "      notes = notes_and_velocities[i][0][increment:increment+400]\n",
        "      velocities = notes_and_velocities[i][1][increment:increment+400]\n",
        "      labels.append(composer_name_to_index[composer])\n",
        "\n",
        "      data = [notes, velocities]\n",
        "      dataAsNumpyArray = np.array(data)\n",
        "\n",
        "      features.append(dataAsNumpyArray)\n",
        "      increment+=400"
      ],
      "metadata": {
        "id": "I6Ec_RHHh15W"
      },
      "execution_count": null,
      "outputs": []
    },
    {
      "cell_type": "code",
      "source": [
        "features = np.array(features)\n",
        "labels = np.array(labels)"
      ],
      "metadata": {
        "id": "xHSo0wVsmLWO"
      },
      "execution_count": null,
      "outputs": []
    },
    {
      "cell_type": "code",
      "source": [
        "# Elimizdeki verinin %20'sini test verisi olarak ayirdik.\n",
        "from sklearn.model_selection import train_test_split\n",
        "x_train, x_test, y_train, y_test = train_test_split(features, labels, test_size=0.2)"
      ],
      "metadata": {
        "id": "SgomezGyk9J6"
      },
      "execution_count": null,
      "outputs": []
    },
    {
      "cell_type": "code",
      "source": [
        "# Modeli egitiyoruz.\n",
        "history = model.fit(x_train, y_train, epochs=10, validation_data=(x_test, y_test))"
      ],
      "metadata": {
        "colab": {
          "base_uri": "https://localhost:8080/"
        },
        "id": "A-P_oIp_l1d-",
        "outputId": "7d307b81-3928-4b1d-8391-21cd8bfcc392"
      },
      "execution_count": null,
      "outputs": [
        {
          "output_type": "stream",
          "name": "stdout",
          "text": [
            "Epoch 1/10\n",
            "65/65 [==============================] - 1s 8ms/step - loss: 13.0275 - accuracy: 0.3568 - val_loss: 2.5380 - val_accuracy: 0.4151\n",
            "Epoch 2/10\n",
            "65/65 [==============================] - 0s 4ms/step - loss: 2.5598 - accuracy: 0.4046 - val_loss: 2.1138 - val_accuracy: 0.4942\n",
            "Epoch 3/10\n",
            "65/65 [==============================] - 0s 4ms/step - loss: 1.8126 - accuracy: 0.4708 - val_loss: 1.6480 - val_accuracy: 0.5309\n",
            "Epoch 4/10\n",
            "65/65 [==============================] - 0s 4ms/step - loss: 1.6860 - accuracy: 0.5007 - val_loss: 1.7644 - val_accuracy: 0.4710\n",
            "Epoch 5/10\n",
            "65/65 [==============================] - 0s 6ms/step - loss: 1.6735 - accuracy: 0.5056 - val_loss: 1.5977 - val_accuracy: 0.5212\n",
            "Epoch 6/10\n",
            "65/65 [==============================] - 0s 4ms/step - loss: 1.6238 - accuracy: 0.5181 - val_loss: 1.7630 - val_accuracy: 0.4266\n",
            "Epoch 7/10\n",
            "65/65 [==============================] - 0s 3ms/step - loss: 1.6172 - accuracy: 0.5176 - val_loss: 1.6278 - val_accuracy: 0.5039\n",
            "Epoch 8/10\n",
            "65/65 [==============================] - 0s 3ms/step - loss: 1.5927 - accuracy: 0.5278 - val_loss: 1.5143 - val_accuracy: 0.5290\n",
            "Epoch 9/10\n",
            "65/65 [==============================] - 0s 4ms/step - loss: 1.4727 - accuracy: 0.5437 - val_loss: 1.4438 - val_accuracy: 0.5251\n",
            "Epoch 10/10\n",
            "65/65 [==============================] - 0s 4ms/step - loss: 1.4556 - accuracy: 0.5403 - val_loss: 1.4697 - val_accuracy: 0.5174\n"
          ]
        }
      ]
    },
    {
      "cell_type": "code",
      "source": [
        "# Training loss'u ve validation loss'u gorsellestirelim.\n",
        "loss = history.history['loss']\n",
        "val_loss = history.history['val_loss']\n",
        "epochs = range(1, len(loss) + 1)\n",
        "\n",
        "plt.plot(epochs, loss, 'b', label='Training Loss')\n",
        "plt.plot(epochs, val_loss, 'r', label='Validation Loss')\n",
        "plt.title('Training and Validation Loss')\n",
        "plt.xlabel('Epochs')\n",
        "plt.ylabel('Loss')\n",
        "plt.legend()\n",
        "plt.show()"
      ],
      "metadata": {
        "colab": {
          "base_uri": "https://localhost:8080/",
          "height": 472
        },
        "id": "CsGoe6ebUnp2",
        "outputId": "29796300-fa00-402e-eeb0-480ccef1ce97"
      },
      "execution_count": null,
      "outputs": [
        {
          "output_type": "display_data",
          "data": {
            "text/plain": [
              "<Figure size 640x480 with 1 Axes>"
            ],
            "image/png": "[encoded data removed]"
          },
          "metadata": {}
        }
      ]
    }
  ]
}